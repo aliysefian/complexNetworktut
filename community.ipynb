{
 "cells": [
  {
   "cell_type": "markdown",
   "metadata": {},
   "source": [
    "![communities](https://upload.wikimedia.org/wikipedia/commons/thumb/f/f4/Network_Community_Structure.svg/200px-Network_Community_Structure.svg.png)\n",
    "\n",
    "### Definitions\n",
    "\n",
    "__Communities__ (also called partitions, clusters, groupings) in networks are sets of nodes that are more densely connected within a community than between other communities. \n",
    "\n",
    "__Community detection__ aims to reveal underlying community structure and can be handled in several different ways."
   ]
  },
  {
   "cell_type": "code",
   "execution_count": 1,
   "metadata": {},
   "outputs": [],
   "source": [
    "import networkx as nx\n",
    "from networkx.algorithms.community import k_clique_communities, girvan_newman\n",
    "\n",
    "import matplotlib.pyplot as plt\n",
    "%matplotlib inline"
   ]
  },
  {
   "cell_type": "code",
   "execution_count": 2,
   "metadata": {},
   "outputs": [],
   "source": [
    "GA=nx.read_gexf(\"ga_graph.gexf\")"
   ]
  },
  {
   "cell_type": "markdown",
   "metadata": {},
   "source": [
    "## Girvan Newman Algorithm\n",
    "> The Girvan–Newman algorithm detects communities by progressively removing edges from the original graph. The algorithm removes the “most valuable” edge, traditionally the edge with the highest betweenness centrality, at each step. As the graph breaks down into pieces, the tightly knit community structure is exposed.\n",
    "\n",
    "NetworkX's `girvan_newman` __returns__:  \n",
    "```\n",
    "Iterator over tuples of sets of nodes in G. Each set of nodes is a community, each tuple is a sequence of communities at a particular level of the algorithm.```"
   ]
  },
  {
   "cell_type": "code",
   "execution_count": 3,
   "metadata": {},
   "outputs": [],
   "source": [
    "gn_comm = girvan_newman(GA)"
   ]
  },
  {
   "cell_type": "code",
   "execution_count": 4,
   "metadata": {},
   "outputs": [],
   "source": [
    "first_iteration_comm = tuple(sorted(c) for c in next(gn_comm))"
   ]
  },
  {
   "cell_type": "code",
   "execution_count": 5,
   "metadata": {},
   "outputs": [
    {
     "data": {
      "text/plain": [
       "{0: ['addison',\n",
       "  'arizona',\n",
       "  'avery',\n",
       "  'denny',\n",
       "  'derek',\n",
       "  'finn',\n",
       "  'grey',\n",
       "  'hank',\n",
       "  'izzie',\n",
       "  'karev',\n",
       "  'kepner',\n",
       "  'lexi',\n",
       "  'mrs. seabury',\n",
       "  'nancy',\n",
       "  \"o'malley\",\n",
       "  'olivia',\n",
       "  'sloan',\n",
       "  'steve',\n",
       "  'torres'],\n",
       " 1: ['altman', 'colin', 'owen', 'preston', 'yang'],\n",
       " 2: ['adele', 'chief', 'ellis grey', 'susan grey', 'thatch grey'],\n",
       " 3: ['bailey', 'ben', 'tucker']}"
      ]
     },
     "execution_count": 5,
     "metadata": {},
     "output_type": "execute_result"
    }
   ],
   "source": [
    "dict(enumerate(first_iteration_comm))"
   ]
  },
  {
   "cell_type": "code",
   "execution_count": 6,
   "metadata": {
    "scrolled": true
   },
   "outputs": [
    {
     "data": {
      "text/plain": [
       "['steve',\n",
       " 'finn',\n",
       " 'denny',\n",
       " 'hank',\n",
       " 'grey',\n",
       " 'izzie',\n",
       " \"o'malley\",\n",
       " 'olivia',\n",
       " 'derek',\n",
       " 'kepner',\n",
       " 'mrs. seabury',\n",
       " 'karev',\n",
       " 'arizona',\n",
       " 'torres',\n",
       " 'addison',\n",
       " 'avery',\n",
       " 'lexi',\n",
       " 'nancy',\n",
       " 'sloan',\n",
       " 'altman',\n",
       " 'owen',\n",
       " 'yang',\n",
       " 'colin',\n",
       " 'preston',\n",
       " 'susan grey',\n",
       " 'thatch grey',\n",
       " 'ellis grey',\n",
       " 'chief',\n",
       " 'adele',\n",
       " 'tucker',\n",
       " 'bailey',\n",
       " 'ben']"
      ]
     },
     "execution_count": 6,
     "metadata": {},
     "output_type": "execute_result"
    }
   ],
   "source": [
    "nx.spectral_ordering(GA)"
   ]
  },
  {
   "cell_type": "code",
   "execution_count": 10,
   "metadata": {},
   "outputs": [
    {
     "data": {
      "text/plain": [
       "array([-3.45818400e+00+0.00000000e+00j,  2.26745084e+00+0.00000000e+00j,\n",
       "        2.16809117e+00+0.00000000e+00j, -2.20921945e+00+0.00000000e+00j,\n",
       "        1.84852251e+00+0.00000000e+00j,  1.75977428e+00+0.00000000e+00j,\n",
       "       -1.97876301e+00+0.00000000e+00j, -1.77765231e+00+0.00000000e+00j,\n",
       "       -1.73384506e+00+0.00000000e+00j, -1.42143976e+00+0.00000000e+00j,\n",
       "       -1.33150339e+00+0.00000000e+00j, -1.15858808e+00+0.00000000e+00j,\n",
       "       -9.33258048e-01+0.00000000e+00j, -7.39790984e-01+0.00000000e+00j,\n",
       "       -4.69245302e-01+0.00000000e+00j, -3.52041303e-01+0.00000000e+00j,\n",
       "        1.46859672e+00+0.00000000e+00j,  1.32832174e+00+0.00000000e+00j,\n",
       "        1.15541208e+00+0.00000000e+00j,  3.46678312e-01+0.00000000e+00j,\n",
       "        4.66753066e-01+0.00000000e+00j,  7.10469998e-01+0.00000000e+00j,\n",
       "        9.25812929e-01+0.00000000e+00j, -1.00000000e+00+0.00000000e+00j,\n",
       "       -6.08019387e-17+0.00000000e+00j, -1.69748431e-16+0.00000000e+00j,\n",
       "        1.00000000e+00+0.00000000e+00j, -8.76707576e-17+0.00000000e+00j,\n",
       "        8.23814083e-18+3.60160158e-17j,  8.23814083e-18-3.60160158e-17j,\n",
       "       -2.55660098e-17+0.00000000e+00j, -1.53347857e-31+0.00000000e+00j])"
      ]
     },
     "execution_count": 10,
     "metadata": {},
     "output_type": "execute_result"
    }
   ],
   "source": [
    "nx.modularity_spectrum(GA)"
   ]
  },
  {
   "cell_type": "code",
   "execution_count": null,
   "metadata": {},
   "outputs": [],
   "source": []
  }
 ],
 "metadata": {
  "kernelspec": {
   "display_name": "Python (myenv)",
   "language": "python",
   "name": "venv"
  },
  "language_info": {
   "codemirror_mode": {
    "name": "ipython",
    "version": 3
   },
   "file_extension": ".py",
   "mimetype": "text/x-python",
   "name": "python",
   "nbconvert_exporter": "python",
   "pygments_lexer": "ipython3",
   "version": "3.6.5"
  }
 },
 "nbformat": 4,
 "nbformat_minor": 2
}
