{
 "cells": [
  {
   "cell_type": "markdown",
   "metadata": {},
   "source": [
    "# Centrality\n",
    "\n",
    "- Definition of Centrality\n",
    "- Compare and contrast popular centrality measures on dataset\n",
    "    - Degree\n",
    "    - Closeness\n",
    "    - Betweenness\n",
    "    - Eigenvector\n",
    "\n",
    "<img width=\"500\" src=\"https://upload.wikimedia.org/wikipedia/commons/thumb/6/60/Graph_betweenness.svg/2000px-Graph_betweenness.svg.png\">"
   ]
  },
  {
   "cell_type": "code",
   "execution_count": 1,
   "metadata": {},
   "outputs": [],
   "source": [
    "import networkx as nx\n",
    "import matplotlib.pyplot as plt\n",
    "%matplotlib inline"
   ]
  },
  {
   "cell_type": "code",
   "execution_count": 2,
   "metadata": {},
   "outputs": [
    {
     "name": "stdout",
     "output_type": "stream",
     "text": [
      "Name: \n",
      "Type: Graph\n",
      "Number of nodes: 32\n",
      "Number of edges: 34\n",
      "Average degree:   2.1250\n"
     ]
    }
   ],
   "source": [
    "GA = nx.read_gexf('ga_graph.gexf')\n",
    "print(nx.info(GA))"
   ]
  },
  {
   "cell_type": "markdown",
   "metadata": {},
   "source": [
    "## Degree Centrality\n",
    "\n",
    "The __degree__ of a node is the number of other nodes to which it is connected. \n",
    "\n",
    "![](https://www.openabm.org/files/books/1928/fig102.png)\n",
    "\n",
    "NetworkX's degree centrality is calculated by taking the degree of the node and dividing by `n-1` where where `n` is the number of nodes in `G`.\n",
    "\n",
    "$$ {C_D (u)} = \\frac{deg(u)}{{n-1}} $$"
   ]
  },
  {
   "cell_type": "code",
   "execution_count": 3,
   "metadata": {},
   "outputs": [
    {
     "data": {
      "text/plain": [
       "4"
      ]
     },
     "execution_count": 3,
     "metadata": {},
     "output_type": "execute_result"
    }
   ],
   "source": [
    "GA.degree(\"grey\")"
   ]
  },
  {
   "cell_type": "code",
   "execution_count": 7,
   "metadata": {},
   "outputs": [
    {
     "name": "stdout",
     "output_type": "stream",
     "text": [
      "[('lexi', 3), ('sloan', 5), ('karev', 7), ('owen', 2), ('yang', 3), ('altman', 2), ('torres', 4), ('arizona', 1), ('derek', 2), ('grey', 4), ('izzie', 4), (\"o'malley\", 4), ('colin', 1), ('preston', 1), ('kepner', 1), ('addison', 3), ('nancy', 1), ('olivia', 2), ('mrs. seabury', 1), ('chief', 2), ('adele', 1), ('ellis grey', 2), ('thatch grey', 2), ('susan grey', 1), ('bailey', 2), ('tucker', 1), ('hank', 1), ('denny', 1), ('finn', 1), ('steve', 1), ('ben', 1), ('avery', 1)]\n"
     ]
    }
   ],
   "source": [
    "print(GA.degree())"
   ]
  },
  {
   "cell_type": "code",
   "execution_count": 8,
   "metadata": {},
   "outputs": [
    {
     "data": {
      "text/plain": [
       "[('karev', 7), ('sloan', 5), ('torres', 4), ('grey', 4), ('izzie', 4)]"
      ]
     },
     "execution_count": 8,
     "metadata": {},
     "output_type": "execute_result"
    }
   ],
   "source": [
    "sorted(GA.degree(), key=lambda x:x[1], reverse=True)[:5]"
   ]
  },
  {
   "cell_type": "code",
   "execution_count": 6,
   "metadata": {},
   "outputs": [
    {
     "name": "stdout",
     "output_type": "stream",
     "text": [
      "Calculated degree centrality for Grey: 0.12903225806451613\n",
      "Networkx degree centrality for Grey: 0.12903225806451613\n"
     ]
    },
    {
     "data": {
      "text/plain": [
       "'Values match, good job!'"
      ]
     },
     "execution_count": 6,
     "metadata": {},
     "output_type": "execute_result"
    }
   ],
   "source": [
    "# Degree for the 'Grey' node\n",
    "degree_grey = GA.degree(\"grey\")  # 4 romantic partners\n",
    "\n",
    "# Total number of nodes (excluding Grey) \n",
    "total_nodes_minus_grey = len(GA.nodes())-1  # 31 characters in the cast, excluding Grey\n",
    "\n",
    "# Degree centrality for Grey\n",
    "degree_centrality_grey = (degree_grey / total_nodes_minus_grey)\n",
    "print(\"Calculated degree centrality for Grey:\", degree_centrality_grey)\n",
    "\n",
    "# Double check\n",
    "print(\"Networkx degree centrality for Grey:\", nx.degree_centrality(GA)[\"grey\"])\n",
    "\n",
    "def check_equal(val1, val2):\n",
    "    assert (val1 == val2),\"Centrality measure calculated incorrectly!\"\n",
    "    return \"Values match, good job!\"\n",
    "\n",
    "check_equal(degree_centrality_grey, nx.degree_centrality(GA)[\"grey\"])"
   ]
  },
  {
   "cell_type": "code",
   "execution_count": 26,
   "metadata": {},
   "outputs": [
    {
     "data": {
      "text/plain": [
       "{'lexi': 0.0967741935483871,\n",
       " 'sloan': 0.16129032258064516,\n",
       " 'karev': 0.22580645161290322,\n",
       " 'owen': 0.06451612903225806,\n",
       " 'yang': 0.0967741935483871,\n",
       " 'altman': 0.06451612903225806,\n",
       " 'torres': 0.12903225806451613,\n",
       " 'arizona': 0.03225806451612903,\n",
       " 'derek': 0.06451612903225806,\n",
       " 'grey': 0.12903225806451613,\n",
       " 'izzie': 0.12903225806451613,\n",
       " \"o'malley\": 0.12903225806451613,\n",
       " 'colin': 0.03225806451612903,\n",
       " 'preston': 0.03225806451612903,\n",
       " 'kepner': 0.03225806451612903,\n",
       " 'addison': 0.0967741935483871,\n",
       " 'nancy': 0.03225806451612903,\n",
       " 'olivia': 0.06451612903225806,\n",
       " 'mrs. seabury': 0.03225806451612903,\n",
       " 'chief': 0.06451612903225806,\n",
       " 'adele': 0.03225806451612903,\n",
       " 'ellis grey': 0.06451612903225806,\n",
       " 'thatch grey': 0.06451612903225806,\n",
       " 'susan grey': 0.03225806451612903,\n",
       " 'bailey': 0.06451612903225806,\n",
       " 'tucker': 0.03225806451612903,\n",
       " 'hank': 0.03225806451612903,\n",
       " 'denny': 0.03225806451612903,\n",
       " 'finn': 0.03225806451612903,\n",
       " 'steve': 0.03225806451612903,\n",
       " 'ben': 0.03225806451612903,\n",
       " 'avery': 0.03225806451612903}"
      ]
     },
     "execution_count": 26,
     "metadata": {},
     "output_type": "execute_result"
    }
   ],
   "source": [
    "degree_centrality = nx.degree_centrality(GA)\n",
    "degree_centrality"
   ]
  },
  {
   "cell_type": "code",
   "execution_count": 27,
   "metadata": {},
   "outputs": [
    {
     "data": {
      "text/plain": [
       "[('karev', 0.22580645161290322),\n",
       " ('sloan', 0.16129032258064516),\n",
       " ('torres', 0.12903225806451613),\n",
       " ('grey', 0.12903225806451613),\n",
       " ('izzie', 0.12903225806451613)]"
      ]
     },
     "execution_count": 27,
     "metadata": {},
     "output_type": "execute_result"
    }
   ],
   "source": [
    "sorted(degree_centrality.items(), key=lambda x: x[1], reverse=True)[:5]"
   ]
  },
  {
   "cell_type": "markdown",
   "metadata": {},
   "source": [
    "# Closeness Centrality\n",
    "Closeness Centrality measures how many \"hops\" it would take to reach every other node in a network (taking the shortest path). It can be informally thought as 'average distance' to all other nodes.\n",
    "\n",
    "<img style=\"float: center\" src=\"https://toreopsahl.files.wordpress.com/2008/12/geodesic-n1.png?w=455\">\n",
    "\n",
    "In NetworkX, it the reciporical of of the *average* value, which normalizes the value in a 0 to 1 range. \n",
    "\n",
    "$$ C_C (u) = \\frac{n - 1}{\\sum_{v=1}^{n-1} d(v, u)} $$\n"
   ]
  },
  {
   "cell_type": "code",
   "execution_count": 36,
   "metadata": {},
   "outputs": [
    {
     "name": "stdout",
     "output_type": "stream",
     "text": [
      "{'grey': 0, 'derek': 1, \"o'malley\": 1, 'finn': 1, 'steve': 1, 'addison': 2, 'torres': 2, 'izzie': 2, 'olivia': 2, 'sloan': 3, 'karev': 3, 'arizona': 3, 'hank': 3, 'denny': 3, 'lexi': 4, 'altman': 4, 'nancy': 4, 'kepner': 4, 'mrs. seabury': 4, 'avery': 5, 'owen': 5, 'yang': 6, 'colin': 7, 'preston': 7}\n"
     ]
    }
   ],
   "source": [
    "grey_shortest_path = nx.shortest_path_length(GA,source=\"grey\")\n",
    "print(grey_shortest_path)"
   ]
  },
  {
   "cell_type": "markdown",
   "metadata": {},
   "source": [
    "`If the graph is not completely connected, this algorithm computes the closeness centrality for each connected part separately.  The closeness centrality is normalized to (n-1)/(|G|-1) where n is the number of nodes in the connected part of graph containing the node.`"
   ]
  },
  {
   "cell_type": "code",
   "execution_count": 40,
   "metadata": {},
   "outputs": [
    {
     "name": "stdout",
     "output_type": "stream",
     "text": [
      "Calculated closeness centrality for Grey: 0.4025974025974026\n",
      "Networkx closeness centrality for Grey: 0.2216170925848345\n"
     ]
    },
    {
     "ename": "AssertionError",
     "evalue": "Centrality measure calculated incorrectly!",
     "output_type": "error",
     "traceback": [
      "\u001b[0;31m---------------------------------------------------------------------------\u001b[0m",
      "\u001b[0;31mAssertionError\u001b[0m                            Traceback (most recent call last)",
      "\u001b[0;32m<ipython-input-40-167584575c9b>\u001b[0m in \u001b[0;36m<module>\u001b[0;34m()\u001b[0m\n\u001b[1;32m      9\u001b[0m \u001b[0mprint\u001b[0m\u001b[0;34m(\u001b[0m\u001b[0;34m\"Networkx closeness centrality for Grey:\"\u001b[0m\u001b[0;34m,\u001b[0m \u001b[0mnx\u001b[0m\u001b[0;34m.\u001b[0m\u001b[0mcloseness_centrality\u001b[0m\u001b[0;34m(\u001b[0m\u001b[0mGA\u001b[0m\u001b[0;34m)\u001b[0m\u001b[0;34m[\u001b[0m\u001b[0;34m\"grey\"\u001b[0m\u001b[0;34m]\u001b[0m\u001b[0;34m)\u001b[0m\u001b[0;34m\u001b[0m\u001b[0;34m\u001b[0m\u001b[0m\n\u001b[1;32m     10\u001b[0m \u001b[0;34m\u001b[0m\u001b[0m\n\u001b[0;32m---> 11\u001b[0;31m \u001b[0mcheck_equal\u001b[0m\u001b[0;34m(\u001b[0m\u001b[0mcloseness_centrality_grey\u001b[0m\u001b[0;34m,\u001b[0m \u001b[0mnx\u001b[0m\u001b[0;34m.\u001b[0m\u001b[0mcloseness_centrality\u001b[0m\u001b[0;34m(\u001b[0m\u001b[0mGA\u001b[0m\u001b[0;34m)\u001b[0m\u001b[0;34m[\u001b[0m\u001b[0;34m\"grey\"\u001b[0m\u001b[0;34m]\u001b[0m\u001b[0;34m)\u001b[0m\u001b[0;34m\u001b[0m\u001b[0;34m\u001b[0m\u001b[0m\n\u001b[0m",
      "\u001b[0;32m<ipython-input-25-ed2502927787>\u001b[0m in \u001b[0;36mcheck_equal\u001b[0;34m(val1, val2)\u001b[0m\n\u001b[1;32m     13\u001b[0m \u001b[0;34m\u001b[0m\u001b[0m\n\u001b[1;32m     14\u001b[0m \u001b[0;32mdef\u001b[0m \u001b[0mcheck_equal\u001b[0m\u001b[0;34m(\u001b[0m\u001b[0mval1\u001b[0m\u001b[0;34m,\u001b[0m \u001b[0mval2\u001b[0m\u001b[0;34m)\u001b[0m\u001b[0;34m:\u001b[0m\u001b[0;34m\u001b[0m\u001b[0;34m\u001b[0m\u001b[0m\n\u001b[0;32m---> 15\u001b[0;31m     \u001b[0;32massert\u001b[0m \u001b[0;34m(\u001b[0m\u001b[0mval1\u001b[0m \u001b[0;34m==\u001b[0m \u001b[0mval2\u001b[0m\u001b[0;34m)\u001b[0m\u001b[0;34m,\u001b[0m\u001b[0;34m\"Centrality measure calculated incorrectly!\"\u001b[0m\u001b[0;34m\u001b[0m\u001b[0;34m\u001b[0m\u001b[0m\n\u001b[0m\u001b[1;32m     16\u001b[0m     \u001b[0;32mreturn\u001b[0m \u001b[0;34m\"Values match, good job!\"\u001b[0m\u001b[0;34m\u001b[0m\u001b[0;34m\u001b[0m\u001b[0m\n\u001b[1;32m     17\u001b[0m \u001b[0;34m\u001b[0m\u001b[0m\n",
      "\u001b[0;31mAssertionError\u001b[0m: Centrality measure calculated incorrectly!"
     ]
    }
   ],
   "source": [
    "# Sum of the shortest paths to all other characters\n",
    "grey_sum_shortest_path = sum(grey_shortest_path.values())  # 77\n",
    "\n",
    "# Closeness centrality for Grey\n",
    "closeness_centrality_grey = (total_nodes_minus_grey / grey_sum_shortest_path)\n",
    "print(\"Calculated closeness centrality for Grey:\", closeness_centrality_grey)\n",
    "\n",
    "# Double check\n",
    "print(\"Networkx closeness centrality for Grey:\", nx.closeness_centrality(GA)[\"grey\"])\n",
    "\n",
    "check_equal(closeness_centrality_grey, nx.closeness_centrality(GA)[\"grey\"])"
   ]
  },
  {
   "cell_type": "code",
   "execution_count": 9,
   "metadata": {},
   "outputs": [
    {
     "data": {
      "text/plain": [
       "0.2216170925848345"
      ]
     },
     "execution_count": 9,
     "metadata": {},
     "output_type": "execute_result"
    }
   ],
   "source": [
    "nx.closeness_centrality(GA)[\"grey\"]"
   ]
  },
  {
   "cell_type": "code",
   "execution_count": 41,
   "metadata": {},
   "outputs": [
    {
     "data": {
      "text/plain": [
       "[{'addison',\n",
       "  'altman',\n",
       "  'arizona',\n",
       "  'avery',\n",
       "  'colin',\n",
       "  'denny',\n",
       "  'derek',\n",
       "  'finn',\n",
       "  'grey',\n",
       "  'hank',\n",
       "  'izzie',\n",
       "  'karev',\n",
       "  'kepner',\n",
       "  'lexi',\n",
       "  'mrs. seabury',\n",
       "  'nancy',\n",
       "  \"o'malley\",\n",
       "  'olivia',\n",
       "  'owen',\n",
       "  'preston',\n",
       "  'sloan',\n",
       "  'steve',\n",
       "  'torres',\n",
       "  'yang'},\n",
       " {'adele', 'chief', 'ellis grey', 'susan grey', 'thatch grey'},\n",
       " {'bailey', 'ben', 'tucker'}]"
      ]
     },
     "execution_count": 41,
     "metadata": {},
     "output_type": "execute_result"
    }
   ],
   "source": [
    "# View members of different subgraphs\n",
    "sorted(nx.connected_components(GA), key = len, reverse=True)"
   ]
  },
  {
   "cell_type": "markdown",
   "metadata": {},
   "source": [
    "To correct for this, we will use the number of nodes in the `Grey` subgraph instead of the total number of nodes to calculated degree centrality.  Additionally, we'll normalized to `(n-1)/(|G|-1)` where `n` is the number of nodes in the connected part of graph containing the node."
   ]
  },
  {
   "cell_type": "code",
   "execution_count": 43,
   "metadata": {},
   "outputs": [
    {
     "name": "stdout",
     "output_type": "stream",
     "text": [
      "Calculated closeness centrality for Grey (normalized): 0.2216170925848345\n",
      "Networkx closeness centrality for Grey: 0.2216170925848345\n"
     ]
    },
    {
     "data": {
      "text/plain": [
       "'Values match, good job!'"
      ]
     },
     "execution_count": 43,
     "metadata": {},
     "output_type": "execute_result"
    }
   ],
   "source": [
    "# Number of nodes in Grey subgraph, excluding Grey\n",
    "total_nodes_minus_grey_sub = len(grey_shortest_path)-1   # 23\n",
    "\n",
    "# Closeness centrality for Grey (unnormalized)\n",
    "closeness_centrality_grey = (total_nodes_minus_grey_sub / grey_sum_shortest_path)   # ~0.2987\n",
    "\n",
    "# Closeness centrality for Grey (normalized)\n",
    "closeness_centrality_grey_normalized = closeness_centrality_grey * (total_nodes_minus_grey_sub/total_nodes_minus_grey)\n",
    "print(\"Calculated closeness centrality for Grey (normalized):\", closeness_centrality_grey_normalized)\n",
    "\n",
    "# Double check\n",
    "print(\"Networkx closeness centrality for Grey:\", nx.closeness_centrality(GA)[\"grey\"])\n",
    "\n",
    "check_equal(closeness_centrality_grey_normalized, nx.closeness_centrality(GA)[\"grey\"])"
   ]
  },
  {
   "cell_type": "code",
   "execution_count": 45,
   "metadata": {},
   "outputs": [
    {
     "data": {
      "text/plain": [
       "{'lexi': 0.26253101736972706,\n",
       " 'sloan': 0.2892290869327502,\n",
       " 'karev': 0.2892290869327502,\n",
       " 'owen': 0.19173613628126135,\n",
       " 'yang': 0.1594814591498342,\n",
       " 'altman': 0.2337604949182501,\n",
       " 'torres': 0.29937747594793435,\n",
       " 'arizona': 0.21600653327888933,\n",
       " 'derek': 0.2337604949182501,\n",
       " 'grey': 0.2216170925848345,\n",
       " 'izzie': 0.24731182795698925,\n",
       " \"o'malley\": 0.2708653353814644,\n",
       " 'colin': 0.13228307076769194,\n",
       " 'preston': 0.13228307076769194,\n",
       " 'kepner': 0.21067303863002787,\n",
       " 'addison': 0.2892290869327502,\n",
       " 'nancy': 0.21067303863002787,\n",
       " 'olivia': 0.2337604949182501,\n",
       " 'mrs. seabury': 0.21067303863002787,\n",
       " 'chief': 0.07373271889400922,\n",
       " 'adele': 0.05161290322580645,\n",
       " 'ellis grey': 0.08602150537634408,\n",
       " 'thatch grey': 0.07373271889400922,\n",
       " 'susan grey': 0.05161290322580645,\n",
       " 'bailey': 0.06451612903225806,\n",
       " 'tucker': 0.04301075268817204,\n",
       " 'hank': 0.18752215526409075,\n",
       " 'denny': 0.18752215526409075,\n",
       " 'finn': 0.17236884978820463,\n",
       " 'steve': 0.17236884978820463,\n",
       " 'ben': 0.04301075268817204,\n",
       " 'avery': 0.19614386355209493}"
      ]
     },
     "execution_count": 45,
     "metadata": {},
     "output_type": "execute_result"
    }
   ],
   "source": [
    "closeness_centrality = nx.closeness_centrality(GA)\n",
    "closeness_centrality"
   ]
  },
  {
   "cell_type": "code",
   "execution_count": 46,
   "metadata": {},
   "outputs": [
    {
     "data": {
      "text/plain": [
       "[('torres', 0.29937747594793435),\n",
       " ('sloan', 0.2892290869327502),\n",
       " ('karev', 0.2892290869327502),\n",
       " ('addison', 0.2892290869327502),\n",
       " (\"o'malley\", 0.2708653353814644)]"
      ]
     },
     "execution_count": 46,
     "metadata": {},
     "output_type": "execute_result"
    }
   ],
   "source": [
    "sorted(closeness_centrality.items(), key=lambda x: x[1], reverse=True)[:5]\n"
   ]
  },
  {
   "cell_type": "code",
   "execution_count": 47,
   "metadata": {},
   "outputs": [
    {
     "data": {
      "text/plain": [
       "3.340264650283554"
      ]
     },
     "execution_count": 47,
     "metadata": {},
     "output_type": "execute_result"
    }
   ],
   "source": [
    "# average distance of torres:\n",
    "1 / closeness_centrality['torres']"
   ]
  },
  {
   "cell_type": "markdown",
   "metadata": {},
   "source": [
    "## Betweeness Centrality\n",
    "\n",
    "Betweenness centrality quantifies the number of times a node acts as a bridge (or \"broker\") along the shortest path between two other nodes.  \n",
    "\n",
    "![](https://intl520-summer2011-mas.wikispaces.com/file/view/Simple_Network.gif/238734999/480x360/Simple_Network.gif)\n",
    "\n",
    "In this conception, vertices that have a high probability to occur on a randomly chosen shortest path between two randomly chosen vertices have a high betweenness.\n",
    "\n",
    "$$ C_B(v) =\\sum_{s,t \\in V} \\frac{\\sigma(s, t|v)}{\\sigma(s, t)} $$\n",
    "\n",
    "where ${\\sigma(s, t)}$ is total number of shortest paths from node ${s}$ to node ${t}$ and ${\\sigma(s, t|v)}$ is the number of those paths that pass through ${v}$."
   ]
  },
  {
   "cell_type": "code",
   "execution_count": 48,
   "metadata": {},
   "outputs": [
    {
     "data": {
      "text/plain": [
       "{'lexi': 0.07741935483870968,\n",
       " 'sloan': 0.248100358422939,\n",
       " 'karev': 0.2048745519713262,\n",
       " 'owen': 0.12903225806451613,\n",
       " 'yang': 0.09247311827956989,\n",
       " 'altman': 0.16344086021505377,\n",
       " 'torres': 0.14440860215053763,\n",
       " 'arizona': 0.0,\n",
       " 'derek': 0.038602150537634404,\n",
       " 'grey': 0.10078853046594982,\n",
       " 'izzie': 0.10311827956989246,\n",
       " \"o'malley\": 0.11702508960573477,\n",
       " 'colin': 0.0,\n",
       " 'preston': 0.0,\n",
       " 'kepner': 0.0,\n",
       " 'addison': 0.09480286738351255,\n",
       " 'nancy': 0.0,\n",
       " 'olivia': 0.01064516129032258,\n",
       " 'mrs. seabury': 0.0,\n",
       " 'chief': 0.0064516129032258064,\n",
       " 'adele': 0.0,\n",
       " 'ellis grey': 0.008602150537634409,\n",
       " 'thatch grey': 0.0064516129032258064,\n",
       " 'susan grey': 0.0,\n",
       " 'bailey': 0.002150537634408602,\n",
       " 'tucker': 0.0,\n",
       " 'hank': 0.0,\n",
       " 'denny': 0.0,\n",
       " 'finn': 0.0,\n",
       " 'steve': 0.0,\n",
       " 'ben': 0.0,\n",
       " 'avery': 0.0}"
      ]
     },
     "execution_count": 48,
     "metadata": {},
     "output_type": "execute_result"
    }
   ],
   "source": [
    "betweeness_centrality = nx.betweenness_centrality(GA)\n",
    "betweeness_centrality"
   ]
  },
  {
   "cell_type": "code",
   "execution_count": 30,
   "metadata": {},
   "outputs": [
    {
     "data": {
      "text/plain": [
       "{'lexi': 0.2642455341015447,\n",
       " 'sloan': 0.32268309457542504,\n",
       " 'karev': 0.5027687871890416,\n",
       " 'owen': 0.03408964112637759,\n",
       " 'yang': 0.012041089122459103,\n",
       " 'altman': 0.10442628192357341,\n",
       " 'torres': 0.3609262932492621,\n",
       " 'arizona': 0.10564201543690807,\n",
       " 'derek': 0.12570740328311847,\n",
       " 'grey': 0.15107836088557305,\n",
       " 'izzie': 0.28426338654827676,\n",
       " \"o'malley\": 0.302011970950596,\n",
       " 'colin': 0.003524389734813509,\n",
       " 'preston': 0.0035243897348135253,\n",
       " 'kepner': 0.1471588769531377,\n",
       " 'addison': 0.2784013959452948,\n",
       " 'nancy': 0.09444834886225348,\n",
       " 'olivia': 0.23555685153699446,\n",
       " 'mrs. seabury': 0.1471588769531377,\n",
       " 'chief': -2.3862941563196042e-17,\n",
       " 'adele': -3.7131097517017596e-17,\n",
       " 'ellis grey': -2.3780215129283948e-17,\n",
       " 'thatch grey': -3.214507807911225e-17,\n",
       " 'susan grey': 6.186251973963661e-18,\n",
       " 'bailey': -4.533737386147985e-18,\n",
       " 'tucker': 3.780326284312539e-17,\n",
       " 'hank': 0.08320301854301716,\n",
       " 'denny': 0.08320301854301713,\n",
       " 'finn': 0.044220171351811284,\n",
       " 'steve': 0.04422017135181134,\n",
       " 'ben': -1.6731285930498457e-18,\n",
       " 'avery': 0.07734385472828532}"
      ]
     },
     "execution_count": 30,
     "metadata": {},
     "output_type": "execute_result"
    }
   ],
   "source": [
    "eigenvector_centrality = nx.eigenvector_centrality_numpy(GA)\n",
    "eigenvector_centrality"
   ]
  },
  {
   "cell_type": "code",
   "execution_count": 31,
   "metadata": {},
   "outputs": [
    {
     "data": {
      "text/plain": [
       "[('karev', 0.5027687871890416),\n",
       " ('torres', 0.3609262932492621),\n",
       " ('sloan', 0.32268309457542504),\n",
       " (\"o'malley\", 0.302011970950596),\n",
       " ('izzie', 0.28426338654827676)]"
      ]
     },
     "execution_count": 31,
     "metadata": {},
     "output_type": "execute_result"
    }
   ],
   "source": [
    "sorted(eigenvector_centrality.items(), key=lambda x: x[1], reverse=True)[:5]\n"
   ]
  },
  {
   "cell_type": "code",
   "execution_count": 51,
   "metadata": {
    "scrolled": true
   },
   "outputs": [
    {
     "data": {
      "text/plain": [
       "{'lexi': 0,\n",
       " 'sloan': 0,\n",
       " 'karev': 0,\n",
       " 'owen': 0,\n",
       " 'yang': 0,\n",
       " 'altman': 0,\n",
       " 'torres': 0,\n",
       " 'arizona': 0,\n",
       " 'derek': 0,\n",
       " 'grey': 0,\n",
       " 'izzie': 0,\n",
       " \"o'malley\": 0,\n",
       " 'colin': 0,\n",
       " 'preston': 0,\n",
       " 'kepner': 0,\n",
       " 'addison': 0,\n",
       " 'nancy': 0,\n",
       " 'olivia': 0,\n",
       " 'mrs. seabury': 0,\n",
       " 'chief': 0,\n",
       " 'adele': 0,\n",
       " 'ellis grey': 0,\n",
       " 'thatch grey': 0,\n",
       " 'susan grey': 0,\n",
       " 'bailey': 0,\n",
       " 'tucker': 0,\n",
       " 'hank': 0,\n",
       " 'denny': 0,\n",
       " 'finn': 0,\n",
       " 'steve': 0,\n",
       " 'ben': 0,\n",
       " 'avery': 0}"
      ]
     },
     "execution_count": 51,
     "metadata": {},
     "output_type": "execute_result"
    }
   ],
   "source": [
    "nx.clustering(GA)"
   ]
  },
  {
   "cell_type": "code",
   "execution_count": 11,
   "metadata": {},
   "outputs": [
    {
     "data": {
      "text/plain": [
       "0"
      ]
     },
     "execution_count": 11,
     "metadata": {},
     "output_type": "execute_result"
    }
   ],
   "source": [
    "nx.transitivity(GA)"
   ]
  },
  {
   "cell_type": "code",
   "execution_count": 17,
   "metadata": {},
   "outputs": [],
   "source": [
    "G=nx.Graph()"
   ]
  },
  {
   "cell_type": "code",
   "execution_count": 18,
   "metadata": {},
   "outputs": [],
   "source": [
    "G.add_nodes_from([1,2,3,5,6,7])"
   ]
  },
  {
   "cell_type": "code",
   "execution_count": 22,
   "metadata": {},
   "outputs": [],
   "source": [
    "G.add_edge(1,2)\n",
    "G.add_edge(1,3)\n",
    "G.add_edge(3,2)\n",
    "\n"
   ]
  },
  {
   "cell_type": "code",
   "execution_count": 23,
   "metadata": {},
   "outputs": [
    {
     "data": {
      "image/png": "[encoded data removed]",
      "text/plain": [
       "<Figure size 432x288 with 1 Axes>"
      ]
     },
     "metadata": {},
     "output_type": "display_data"
    }
   ],
   "source": [
    "nx.draw(G)"
   ]
  },
  {
   "cell_type": "code",
   "execution_count": 25,
   "metadata": {},
   "outputs": [
    {
     "data": {
      "text/plain": [
       "{1: 1.0, 2: 1.0, 3: 1.0, 5: 0, 6: 0, 7: 0}"
      ]
     },
     "execution_count": 25,
     "metadata": {},
     "output_type": "execute_result"
    }
   ],
   "source": [
    "nx.clustering(G)"
   ]
  },
  {
   "cell_type": "code",
   "execution_count": 27,
   "metadata": {},
   "outputs": [],
   "source": [
    "pagerank=nx.pagerank(GA)"
   ]
  },
  {
   "cell_type": "code",
   "execution_count": 28,
   "metadata": {},
   "outputs": [
    {
     "data": {
      "text/plain": [
       "[('karev', 0.08213480005894229),\n",
       " ('sloan', 0.06040399162797684),\n",
       " ('grey', 0.05301786724345161),\n",
       " ('izzie', 0.051220398248675865),\n",
       " ('yang', 0.04950406513891621)]"
      ]
     },
     "execution_count": 28,
     "metadata": {},
     "output_type": "execute_result"
    }
   ],
   "source": [
    "sorted(pagerank.items(), key=lambda x: x[1], reverse=True)[:5]\n"
   ]
  },
  {
   "cell_type": "code",
   "execution_count": 32,
   "metadata": {},
   "outputs": [
    {
     "data": {
      "text/plain": [
       "matrix([[2., 1., 1., 0., 0., 0.],\n",
       "        [1., 2., 1., 0., 0., 0.],\n",
       "        [1., 1., 2., 0., 0., 0.],\n",
       "        [0., 0., 0., 0., 0., 0.],\n",
       "        [0., 0., 0., 0., 0., 0.],\n",
       "        [0., 0., 0., 0., 0., 0.]])"
      ]
     },
     "execution_count": 32,
     "metadata": {},
     "output_type": "execute_result"
    }
   ],
   "source": [
    "nx.authority_matrix(G)"
   ]
  },
  {
   "cell_type": "code",
   "execution_count": null,
   "metadata": {},
   "outputs": [],
   "source": []
  }
 ],
 "metadata": {
  "kernelspec": {
   "display_name": "Python (myenv)",
   "language": "python",
   "name": "venv"
  },
  "language_info": {
   "codemirror_mode": {
    "name": "ipython",
    "version": 3
   },
   "file_extension": ".py",
   "mimetype": "text/x-python",
   "name": "python",
   "nbconvert_exporter": "python",
   "pygments_lexer": "ipython3",
   "version": "3.6.5"
  }
 },
 "nbformat": 4,
 "nbformat_minor": 2
}
